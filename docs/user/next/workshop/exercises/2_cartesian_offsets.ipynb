{
 "cells": [
  {
   "cell_type": "markdown",
   "id": "2ead8b70",
   "metadata": {},
   "source": [
    "# 2. Cartesian Offsets"
   ]
  },
  {
   "cell_type": "markdown",
   "id": "1175a7e0-9487-4bd4-8489-4d76d508a9ab",
   "metadata": {},
   "source": [
    "As a first example, let's play around with cartesian offsets on structured grids. In the following we define a laplacian in 2 dimensions and a centered difference in the i-direction in 2 dimensions. We then combine these two operators ..."
   ]
  },
  {
   "cell_type": "code",
   "execution_count": 43,
   "id": "e7b501e0",
   "metadata": {},
   "outputs": [],
   "source": [
    "import numpy as np\n",
    "import matplotlib.pyplot as plt\n",
    "\n",
    "import gt4py.next as gtx\n",
    "from gt4py.next import Dims\n",
    "\n",
    "from helpers import *"
   ]
  },
  {
   "cell_type": "code",
   "execution_count": 44,
   "id": "2ab4d0da-8684-4b1d-9120-1ab10615ecaa",
   "metadata": {},
   "outputs": [],
   "source": [
    "@gtx.field_operator\n",
    "def laplace(in_field: gtx.Field[[I, J], \"float\"]) -> gtx.Field[[I, J], \"float\"]:\n",
    "    return (\n",
    "        -4.0 * in_field\n",
    "        + in_field(I + 1, J + 1)\n",
    "        + in_field(I + 1, J - 1)\n",
    "        + in_field(I - 1, J + 1)\n",
    "        + in_field(I - 1, J - 1)\n",
    "    )"
   ]
  },
  {
   "cell_type": "code",
   "execution_count": 45,
   "id": "ff4989fe-8d3f-4248-856a-6ef98f5f5633",
   "metadata": {},
   "outputs": [],
   "source": [
    "@gtx.field_operator\n",
    "def centered_difference_i(in_field: gtx.Field[[I, J], \"float\"]) -> gtx.Field[[I, J], \"float\"]:\n",
    "    return in_field(I + 1) - in_field(I - 1)\n"
   ]
  },
  {
   "cell_type": "code",
   "execution_count": 46,
   "id": "29c0f4cc-5a80-4604-88a4-40e317ac20e7",
   "metadata": {},
   "outputs": [],
   "source": [
    "@gtx.field_operator\n",
    "def combined(in_field: gtx.Field[[I, J], \"float\"]) -> gtx.Field[[I, J], \"float\"]:\n",
    "    return centered_difference_i(laplace(in_field))"
   ]
  },
  {
   "cell_type": "code",
   "execution_count": 54,
   "id": "f12dbef2-cfaa-41f1-9290-e0577c5f77a3",
   "metadata": {},
   "outputs": [],
   "source": [
    "@gtx.field_operator\n",
    "def combined_naive(in_field: gtx.Field[[I, J], \"float\"]) -> gtx.Field[[I, J], \"float\"]:\n",
    "    return (\n",
    "        -4.0 * in_field(I + 1)\n",
    "        + in_field(I + 2, J + 1)\n",
    "        + in_field(I + 2, J - 1)\n",
    "        + in_field(       J + 1)\n",
    "        + in_field(       J - 1)\n",
    "        + 4.0 * in_field(I - 1)\n",
    "        - in_field(       J + 1)\n",
    "        - in_field(       J - 1)\n",
    "        - in_field(I - 2, J + 1)\n",
    "        - in_field(I - 2, J - 1)\n",
    "    )"
   ]
  },
  {
   "cell_type": "code",
   "execution_count": 65,
   "id": "dd3a1e5b-cfb1-4cb6-9a06-3047069354fa",
   "metadata": {},
   "outputs": [],
   "source": [
    "def test_computation():\n",
    "    backend = None\n",
    "    # backend = gtfn_cpu\n",
    "    # backend = gtfn_gpu\n",
    "    \n",
    "    structured_domain = gtx.domain({I: 10, J: 10})\n",
    "\n",
    "    structured_result_domain = gtx.domain({I: (2, 8) , J: (1, 9)})\n",
    "\n",
    "    input = random_field(structured_domain, allocator=backend)\n",
    " \n",
    "\n",
    "    combined_reference = gtx.zeros(structured_result_domain, allocator=backend)\n",
    "\n",
    "    combined(\n",
    "        input,\n",
    "        out=combined_reference,\n",
    "        offset_provider={Ioff.value: I, Joff.value: J},\n",
    "    )\n",
    "\n",
    "    combined_naive = gtx.zeros(structured_result_domain, allocator=backend)\n",
    "\n",
    "    combined(\n",
    "        input,\n",
    "        out=combined_naive,\n",
    "        offset_provider={Ioff.value: I, Joff.value: J},\n",
    "    )\n",
    "\n",
    "    print(combined_reference.asnumpy())\n",
    "    print(combined_naive.asnumpy())\n",
    "\n",
    "    assert np.allclose(combined_reference.asnumpy(), combined_naive.asnumpy())"
   ]
  },
  {
   "cell_type": "code",
   "execution_count": 66,
   "id": "f48777c1-0c90-4aa3-a766-1588f067e513",
   "metadata": {},
   "outputs": [
    {
     "name": "stdout",
     "output_type": "stream",
     "text": [
      "[[ 1.26041545  0.04257704 -0.4575251   2.69138062  1.86050509  3.57258153\n",
      "   1.3499693  -5.02432625]\n",
      " [ 6.95512944  3.76304299  2.40852921 -2.29538083  0.04519938  1.4688093\n",
      "   3.14548377  4.19020435]\n",
      " [ 0.38783363 -2.98048825 -2.52778711 -6.03286952 -5.50988761 -6.08677145\n",
      "  -4.59747401  6.37860238]\n",
      " [-2.08037822  1.61458121 -2.50692437  7.26080828  3.8713706   5.62213071\n",
      "   1.30764551 -2.90606554]\n",
      " [-6.75171209  0.35810108 -0.12999619  2.98429019 -3.19311727 -0.04953506\n",
      "   0.08247604 -1.40756187]\n",
      " [ 3.68719054  0.34383162 -1.03542281 -3.66106553  1.65237174 -2.99180777\n",
      "  -2.96578888  0.53349804]]\n",
      "[[ 1.26041545  0.04257704 -0.4575251   2.69138062  1.86050509  3.57258153\n",
      "   1.3499693  -5.02432625]\n",
      " [ 6.95512944  3.76304299  2.40852921 -2.29538083  0.04519938  1.4688093\n",
      "   3.14548377  4.19020435]\n",
      " [ 0.38783363 -2.98048825 -2.52778711 -6.03286952 -5.50988761 -6.08677145\n",
      "  -4.59747401  6.37860238]\n",
      " [-2.08037822  1.61458121 -2.50692437  7.26080828  3.8713706   5.62213071\n",
      "   1.30764551 -2.90606554]\n",
      " [-6.75171209  0.35810108 -0.12999619  2.98429019 -3.19311727 -0.04953506\n",
      "   0.08247604 -1.40756187]\n",
      " [ 3.68719054  0.34383162 -1.03542281 -3.66106553  1.65237174 -2.99180777\n",
      "  -2.96578888  0.53349804]]\n"
     ]
    }
   ],
   "source": [
    "test_computation()"
   ]
  },
  {
   "cell_type": "code",
   "execution_count": null,
   "id": "28dc6c28-a2e9-4d58-bbdf-18a67da6acf8",
   "metadata": {},
   "outputs": [],
   "source": []
  },
  {
   "cell_type": "code",
   "execution_count": null,
   "id": "c45bb015-5754-46e4-8440-6b2b98fde66c",
   "metadata": {},
   "outputs": [],
   "source": []
  }
 ],
 "metadata": {
  "jupytext": {
   "formats": "ipynb,md:myst"
  },
  "kernelspec": {
   "display_name": "Python 3 (ipykernel)",
   "language": "python",
   "name": "python3"
  },
  "language_info": {
   "codemirror_mode": {
    "name": "ipython",
    "version": 3
   },
   "file_extension": ".py",
   "mimetype": "text/x-python",
   "name": "python",
   "nbconvert_exporter": "python",
   "pygments_lexer": "ipython3",
   "version": "3.10.12"
  }
 },
 "nbformat": 4,
 "nbformat_minor": 5
}
